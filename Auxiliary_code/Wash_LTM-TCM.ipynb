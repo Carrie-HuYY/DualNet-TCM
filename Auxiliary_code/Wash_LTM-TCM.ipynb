{
 "cells": [
  {
   "cell_type": "code",
   "execution_count": 1,
   "outputs": [],
   "source": [
    "import pandas as pd"
   ],
   "metadata": {
    "collapsed": false,
    "pycharm": {
     "name": "#%%\n"
    }
   }
  },
  {
   "cell_type": "code",
   "execution_count": 3,
   "outputs": [],
   "source": [
    "formula_data = pd.read_csv('D:\\github_planting\\MGM\\data\\TCM_formula.csv')"
   ],
   "metadata": {
    "collapsed": false,
    "pycharm": {
     "name": "#%%\n"
    }
   }
  },
  {
   "cell_type": "code",
   "execution_count": 5,
   "outputs": [
    {
     "data": {
      "text/plain": "         name                           Prescription Composition  \\\n0        小紫苏饮                         紫苏5钱，厚朴5钱，白茯苓5钱，半夏3钱，甘草3钱。   \n1        炮附子丸                                       附子（炮，去皮脐）2两。   \n2         清膈汤                黄连3钱，黄柏3钱，枳壳3钱，石膏3钱，玄参3钱，大黄3钱，甘草1钱。   \n3         管仲散                              黄连3钱，管仲3钱，甘草3钱，骆驼蓬5钱。   \n4         发声散                      瓜蒌1枚，白僵蚕（微炒）5分，桔梗7钱半，甘草（炒）3钱。   \n...       ...                                                ...   \n6186  吴茱萸加附子汤                         吴茱萸3钱，生姜3钱，人参1钱，大枣2个，附子2钱。   \n6187      人参散                          人参半两（去芦头），远志1两（去心），石菖蒲1两。   \n6188      人参散                   人参（去芦，切作片子，焙）半两，当归（净洗，去芦，切，焙）半两。   \n6189      人参散  人参1两（去芦头），黄芩1两，赤茯苓1两，栝楼1枚，枳壳1两半（麸炒微黄，去瓤），甘草半两（...   \n6190      人参散  人参1钱，贝母（去心，炒）1钱，款冬花1钱，半夏（水煮透，干为末，用姜汁作饼子，焙干）1钱，...   \n\n                                     Treatment Symptoms  \\\n0                                         No Data.[无数据]   \n1     胃脘有热，胃中有寒，呕吐不止。[There is heat in the stomach, ...   \n2     口疮作痛，上焦实热者。[Mouth sore pain, on the coke solid...   \n3                                         No Data.[无数据]   \n4     咽痛烦闷，咽物即痛，不宜寒凉药过泄之者。[Pharyngeal pain is boring...   \n...                                                 ...   \n6186  寒疝腰痛，牵引睾丸，屈而不伸，尺内脉来沉迟者。[Cold hernia, low back ...   \n6187  心脏虚烦，恍惚多忘，神思不宁。[Heart empty trouble, trance mo...   \n6188  产后虚汗发热。[Postpartum Hypohidrosis and fever.(Mac...   \n6189  胃黄。[The stomach is yellow.(Machine translation.)]   \n6190  小儿虚热，生涎咳嗽。[Children's deficiency heat, salivat...   \n\n                    Source Document  \n0                    《得效》卷十四。功效:护胎。  \n1                           《得效》卷四。  \n2                           《玉案》卷三。  \n3     《御药院方》卷七。功效:解一切诸热毒，及食毒、酒毒、药毒。  \n4                    《赤水玄珠》卷三引《三因》。  \n...                             ...  \n6186                       《医方考》卷五。  \n6187              《医方类聚》卷十引《简要济众方》。  \n6188                  《卫生家宝产科备要》卷六。  \n6189                      《圣惠》卷五十五。  \n6190              《幼幼新书》卷十六引《张氏家传》。  \n\n[6191 rows x 4 columns]",
      "text/html": "<div>\n<style scoped>\n    .dataframe tbody tr th:only-of-type {\n        vertical-align: middle;\n    }\n\n    .dataframe tbody tr th {\n        vertical-align: top;\n    }\n\n    .dataframe thead th {\n        text-align: right;\n    }\n</style>\n<table border=\"1\" class=\"dataframe\">\n  <thead>\n    <tr style=\"text-align: right;\">\n      <th></th>\n      <th>name</th>\n      <th>Prescription Composition</th>\n      <th>Treatment Symptoms</th>\n      <th>Source Document</th>\n    </tr>\n  </thead>\n  <tbody>\n    <tr>\n      <th>0</th>\n      <td>小紫苏饮</td>\n      <td>紫苏5钱，厚朴5钱，白茯苓5钱，半夏3钱，甘草3钱。</td>\n      <td>No Data.[无数据]</td>\n      <td>《得效》卷十四。功效:护胎。</td>\n    </tr>\n    <tr>\n      <th>1</th>\n      <td>炮附子丸</td>\n      <td>附子（炮，去皮脐）2两。</td>\n      <td>胃脘有热，胃中有寒，呕吐不止。[There is heat in the stomach, ...</td>\n      <td>《得效》卷四。</td>\n    </tr>\n    <tr>\n      <th>2</th>\n      <td>清膈汤</td>\n      <td>黄连3钱，黄柏3钱，枳壳3钱，石膏3钱，玄参3钱，大黄3钱，甘草1钱。</td>\n      <td>口疮作痛，上焦实热者。[Mouth sore pain, on the coke solid...</td>\n      <td>《玉案》卷三。</td>\n    </tr>\n    <tr>\n      <th>3</th>\n      <td>管仲散</td>\n      <td>黄连3钱，管仲3钱，甘草3钱，骆驼蓬5钱。</td>\n      <td>No Data.[无数据]</td>\n      <td>《御药院方》卷七。功效:解一切诸热毒，及食毒、酒毒、药毒。</td>\n    </tr>\n    <tr>\n      <th>4</th>\n      <td>发声散</td>\n      <td>瓜蒌1枚，白僵蚕（微炒）5分，桔梗7钱半，甘草（炒）3钱。</td>\n      <td>咽痛烦闷，咽物即痛，不宜寒凉药过泄之者。[Pharyngeal pain is boring...</td>\n      <td>《赤水玄珠》卷三引《三因》。</td>\n    </tr>\n    <tr>\n      <th>...</th>\n      <td>...</td>\n      <td>...</td>\n      <td>...</td>\n      <td>...</td>\n    </tr>\n    <tr>\n      <th>6186</th>\n      <td>吴茱萸加附子汤</td>\n      <td>吴茱萸3钱，生姜3钱，人参1钱，大枣2个，附子2钱。</td>\n      <td>寒疝腰痛，牵引睾丸，屈而不伸，尺内脉来沉迟者。[Cold hernia, low back ...</td>\n      <td>《医方考》卷五。</td>\n    </tr>\n    <tr>\n      <th>6187</th>\n      <td>人参散</td>\n      <td>人参半两（去芦头），远志1两（去心），石菖蒲1两。</td>\n      <td>心脏虚烦，恍惚多忘，神思不宁。[Heart empty trouble, trance mo...</td>\n      <td>《医方类聚》卷十引《简要济众方》。</td>\n    </tr>\n    <tr>\n      <th>6188</th>\n      <td>人参散</td>\n      <td>人参（去芦，切作片子，焙）半两，当归（净洗，去芦，切，焙）半两。</td>\n      <td>产后虚汗发热。[Postpartum Hypohidrosis and fever.(Mac...</td>\n      <td>《卫生家宝产科备要》卷六。</td>\n    </tr>\n    <tr>\n      <th>6189</th>\n      <td>人参散</td>\n      <td>人参1两（去芦头），黄芩1两，赤茯苓1两，栝楼1枚，枳壳1两半（麸炒微黄，去瓤），甘草半两（...</td>\n      <td>胃黄。[The stomach is yellow.(Machine translation.)]</td>\n      <td>《圣惠》卷五十五。</td>\n    </tr>\n    <tr>\n      <th>6190</th>\n      <td>人参散</td>\n      <td>人参1钱，贝母（去心，炒）1钱，款冬花1钱，半夏（水煮透，干为末，用姜汁作饼子，焙干）1钱，...</td>\n      <td>小儿虚热，生涎咳嗽。[Children's deficiency heat, salivat...</td>\n      <td>《幼幼新书》卷十六引《张氏家传》。</td>\n    </tr>\n  </tbody>\n</table>\n<p>6191 rows × 4 columns</p>\n</div>"
     },
     "execution_count": 5,
     "metadata": {},
     "output_type": "execute_result"
    }
   ],
   "source": [
    "formula_data = formula_data[['name', 'Prescription Composition', 'Treatment Symptoms', 'Source Document']]\n",
    "formula_data"
   ],
   "metadata": {
    "collapsed": false,
    "pycharm": {
     "name": "#%%\n"
    }
   }
  },
  {
   "cell_type": "code",
   "execution_count": null,
   "outputs": [],
   "source": [],
   "metadata": {
    "collapsed": false,
    "pycharm": {
     "name": "#%%\n"
    }
   }
  }
 ],
 "metadata": {
  "kernelspec": {
   "display_name": "Python 3",
   "language": "python",
   "name": "python3"
  },
  "language_info": {
   "codemirror_mode": {
    "name": "ipython",
    "version": 2
   },
   "file_extension": ".py",
   "mimetype": "text/x-python",
   "name": "python",
   "nbconvert_exporter": "python",
   "pygments_lexer": "ipython2",
   "version": "2.7.6"
  }
 },
 "nbformat": 4,
 "nbformat_minor": 0
}